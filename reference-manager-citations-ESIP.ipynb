{
 "cells": [
  {
   "cell_type": "markdown",
   "id": "9f15f333",
   "metadata": {},
   "source": [
    "# Reference Manager Citation Errors\n",
    "\n",
    "12-18-23 KV\n",
    "2-20-23 KV\n"
   ]
  },
  {
   "cell_type": "code",
   "execution_count": 78,
   "id": "be3552a0",
   "metadata": {},
   "outputs": [],
   "source": [
    "# Import needed packages\n",
    "\n",
    "import numpy as np\n",
    "import pandas as pd\n",
    "import math\n",
    "import matplotlib.pyplot as plt"
   ]
  },
  {
   "cell_type": "code",
   "execution_count": 135,
   "id": "3ef7ca2a",
   "metadata": {},
   "outputs": [],
   "source": [
    "# Read data from where it's entered into CSV\n",
    "\n",
    "filepath = '/Users/kvrouwenvelder/Library/CloudStorage/OneDrive-AmericanGeophysicalUnion/Documents/Data/Reference-Manager-Work/reference-manager-analysis/'\n",
    "filename = 'reference-manager-data-v2-'\n",
    "reference_manager_filenames = ['BibTeX','repo-recommended-citation','Zotero-plugin','Zotero-wizard','BibDesk','Sciwheel-plugin',\n",
    "                               'SciWheel-wizard','CrossCite','Endnote','Papers-plugin','Papers-wizard','Paperpile-plugin',\n",
    "                               'Paperpile-wizard','Mendeley-plugin','Mendeley-wizard','RefWorks','Export-options']\n",
    "\n",
    "# import files\n",
    "bibtex = pd.read_csv(filepath+filename+reference_manager_filenames[0]+'.csv')\n",
    "repo_recommended_citation = pd.read_csv(filepath+filename+reference_manager_filenames[1]+'.csv')\n",
    "zotero_plugin = pd.read_csv(filepath+filename+reference_manager_filenames[2]+'.csv')\n",
    "zotero_wizard = pd.read_csv(filepath+filename+reference_manager_filenames[3]+'.csv')\n",
    "bib_desk = pd.read_csv(filepath+filename+reference_manager_filenames[4]+'.csv')\n",
    "sciwheel_plugin = pd.read_csv(filepath+filename+reference_manager_filenames[5]+'.csv')\n",
    "sciwheel_wizard = pd.read_csv(filepath+filename+reference_manager_filenames[6]+'.csv')\n",
    "crosscite = pd.read_csv(filepath+filename+reference_manager_filenames[7]+'.csv')\n",
    "endnote = pd.read_csv(filepath+filename+reference_manager_filenames[8]+'.csv')\n",
    "papers_plugin = pd.read_csv(filepath+filename+reference_manager_filenames[9]+'.csv')\n",
    "papers_wizard = pd.read_csv(filepath+filename+reference_manager_filenames[10]+'.csv')\n",
    "paperpile_plugin = pd.read_csv(filepath+filename+reference_manager_filenames[11]+'.csv')\n",
    "paperpile_wizard = pd.read_csv(filepath+filename+reference_manager_filenames[12]+'.csv')\n",
    "mendeley_plugin = pd.read_csv(filepath+filename+reference_manager_filenames[13]+'.csv')\n",
    "mendeley_wizard = pd.read_csv(filepath+filename+reference_manager_filenames[14]+'.csv')\n",
    "refworks = pd.read_csv(filepath+filename+reference_manager_filenames[15]+'.csv')\n",
    "export_options = pd.read_csv(filepath+filename+reference_manager_filenames[16]+'.csv')\n",
    "\n",
    "list_of_ref_managers = [bibtex,repo_recommended_citation,zotero_plugin,zotero_wizard,bib_desk,sciwheel_plugin,\n",
    "                       sciwheel_wizard,crosscite, endnote, papers_plugin,papers_wizard,paperpile_plugin,\n",
    "                       paperpile_wizard,mendeley_plugin,mendeley_wizard,refworks]\n"
   ]
  },
  {
   "cell_type": "markdown",
   "id": "274c1b16",
   "metadata": {},
   "source": [
    "# Functions"
   ]
  },
  {
   "cell_type": "code",
   "execution_count": 175,
   "id": "b7d350c6",
   "metadata": {},
   "outputs": [],
   "source": [
    "# Set up input fields\n",
    "\n",
    "# Define export metadata fields for count_fields\n",
    "\n",
    "ex_cols = ['export-meta-type', 'export-meta-authors','export-meta-title','export-meta-date','export-meta-DOI',\n",
    "            'export-meta-repo','export-meta-version','export-meta-access-date']\n",
    "\n",
    "# Define import metadata fields for count_fields\n",
    "im_cols = ['import-meta-type', 'import-meta-authors','import-meta-title','import-meta-date','import-meta-DOI',\n",
    "            'import-meta-repo','import-meta-version','import-meta-access-date']\n"
   ]
  },
  {
   "cell_type": "code",
   "execution_count": 176,
   "id": "e32c1b4a",
   "metadata": {},
   "outputs": [],
   "source": [
    "# Count correct, missing, incorrect metadata fields for each repository and reference manager (add cols to df)\n",
    "\n",
    "def count_fields(input_df,cols,col_type):\n",
    "    input_df['count_incorrect_'+col_type]=input_df[cols].sum(axis=1) # add a column to df with count \"incorrect\"\n",
    "    input_df['count_missing_'+col_type]= input_df[cols].isna().sum(axis=1) # add a column to df with count 'missing'\n",
    "    # The count correct is len(cols) - (# incorrect + # missing)\n",
    "    input_df['count_correct_'+col_type] = len(cols) - (input_df['count_incorrect_'+col_type]+input_df['count_missing_'+col_type])\n",
    "    return input_df\n"
   ]
  },
  {
   "cell_type": "code",
   "execution_count": 177,
   "id": "2bbb46de",
   "metadata": {},
   "outputs": [],
   "source": [
    "# Count correct, missing, incorrect across all reference managers\n",
    "\n",
    "list_of_dfs = (repo_recommended_citation, zotero_plugin, zotero_wizard)\n",
    "\n",
    "def sum_across_repos(list_of_dfs, cols, col_type): \n",
    "    # list_of_dfs is df names you wish to analyze; cols is list of columns to analyze; col_type is \"ex\" or \"im\"\n",
    "    \n",
    "    # init full sums\n",
    "    full_sums = [np.zeros(len(list_of_dfs)), np.zeros(len(list_of_dfs)), np.zeros(len(list_of_dfs))]\n",
    "\n",
    "    iter = 0 #start counter\n",
    "    \n",
    "    for df in list_of_dfs: # go through list of dfs\n",
    "        count_fields(df, cols, col_type)\n",
    "        sum_incorrect = np.sum(df['count_incorrect_' + col_type])\n",
    "        sum_missing = np.sum(df['count_missing_' + col_type])\n",
    "        sum_correct = np.sum(df['count_correct_' + col_type])\n",
    "        sums = [sum_incorrect, sum_missing, sum_correct]\n",
    "        full_sums[iter] = sums\n",
    "        iter += 1\n",
    "    \n",
    "    return full_sums\n",
    "    \n",
    "# print(full_sums[0][1]) # access an individual element in this list using list[rows][columns]\n"
   ]
  },
  {
   "cell_type": "code",
   "execution_count": null,
   "id": "e178827a",
   "metadata": {},
   "outputs": [],
   "source": []
  },
  {
   "cell_type": "code",
   "execution_count": null,
   "id": "3926b668",
   "metadata": {},
   "outputs": [],
   "source": []
  },
  {
   "cell_type": "code",
   "execution_count": null,
   "id": "c19c48d0",
   "metadata": {},
   "outputs": [],
   "source": []
  },
  {
   "cell_type": "markdown",
   "id": "7a863c5c",
   "metadata": {},
   "source": [
    "# Repository recommended citation\n",
    "* How many repositories offer a recommended citation? \n",
    "* How many repositories offer a recommended citation that is correct when compared to DataCite metadata?\n",
    "* How many repositories define a citation style? \n",
    "* How many repositories offer an opportunity to change the citation style to what journal requires?"
   ]
  },
  {
   "cell_type": "code",
   "execution_count": 159,
   "id": "10bb8ebd",
   "metadata": {},
   "outputs": [
    {
     "name": "stdout",
     "output_type": "stream",
     "text": [
      "3 repositories specify a citation style (APA).\n"
     ]
    },
    {
     "data": {
      "text/plain": [
       "<matplotlib.legend.Legend at 0x7fb9ca8cdf60>"
      ]
     },
     "execution_count": 159,
     "metadata": {},
     "output_type": "execute_result"
    },
    {
     "data": {
      "image/png": "[encoded data removed]",
      "text/plain": [
       "<Figure size 640x480 with 1 Axes>"
      ]
     },
     "metadata": {},
     "output_type": "display_data"
    }
   ],
   "source": [
    "# Count the correct , incorrect, missing fields - Export Only\n",
    "count_fields(repo_recommended_citation, ex_cols,'ex')\n",
    "\n",
    "# How many repositories specify citation style?\n",
    "\n",
    "num_repo_citation_style = len(repo_recommended_citation[repo_recommended_citation['Citation-style']=='APA'])\n",
    "print(str(num_repo_citation_style)+' repositories specify a citation style (APA).')\n",
    "\n",
    "# Create a stacked bar graph with correct, incorrect, missing fields for each repository\n",
    "\n",
    "## Sort df by most correct fields\n",
    "\n",
    "## Start graphing\n",
    "ax = repo_recommended_citation.sort_values(by=['count_correct_ex'],ascending = False).plot.bar(x = 'Repository', y = ['count_correct_ex','count_incorrect_ex','count_missing_ex'], stacked = True)\n",
    "plt.ylabel('# Metadata Fields')\n",
    "\n",
    "#plt.legend(lines[:3],['Correct Fields','Incorrect Fields','Missing Fields'])\n",
    "ax.legend(loc = 'lower left',framealpha=1)\n",
    "\n",
    "# need to adjust colors, font sizes, rotation of x labels, graph shape, etc."
   ]
  },
  {
   "cell_type": "markdown",
   "id": "73f03e59",
   "metadata": {},
   "source": [
    "# Graph correct fields across all repositories\n",
    "* For each reference manager, what are the # of correct fields across all repositories?\n"
   ]
  },
  {
   "cell_type": "code",
   "execution_count": null,
   "id": "63b912d5",
   "metadata": {},
   "outputs": [],
   "source": []
  },
  {
   "cell_type": "code",
   "execution_count": null,
   "id": "6cce9038",
   "metadata": {},
   "outputs": [],
   "source": []
  }
 ],
 "metadata": {
  "kernelspec": {
   "display_name": "Python 3 (ipykernel)",
   "language": "python",
   "name": "python3"
  },
  "language_info": {
   "codemirror_mode": {
    "name": "ipython",
    "version": 3
   },
   "file_extension": ".py",
   "mimetype": "text/x-python",
   "name": "python",
   "nbconvert_exporter": "python",
   "pygments_lexer": "ipython3",
   "version": "3.10.9"
  }
 },
 "nbformat": 4,
 "nbformat_minor": 5
}
