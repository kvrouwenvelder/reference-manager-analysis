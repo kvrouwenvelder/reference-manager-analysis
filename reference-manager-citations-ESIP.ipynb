{
 "cells": [
  {
   "cell_type": "markdown",
   "id": "9f15f333",
   "metadata": {},
   "source": [
    "# Reference Manager Citation Errors\n",
    "\n",
    "12-18-23 KV\n",
    "2-20-23 KV\n"
   ]
  },
  {
   "cell_type": "code",
   "execution_count": 180,
   "id": "be3552a0",
   "metadata": {},
   "outputs": [],
   "source": [
    "# Import needed packages\n",
    "\n",
    "import numpy as np\n",
    "import pandas as pd\n",
    "import math\n",
    "import matplotlib.pyplot as plt"
   ]
  },
  {
   "cell_type": "code",
   "execution_count": 194,
   "id": "3ef7ca2a",
   "metadata": {},
   "outputs": [],
   "source": [
    "# Read data from where it's entered into CSV\n",
    "\n",
    "filepath = '/Users/kvrouwenvelder/Library/CloudStorage/OneDrive-AmericanGeophysicalUnion/Documents/Data/Reference-Manager-Work/reference-manager-analysis/'\n",
    "filename = 'reference-manager-data-v2-'\n",
    "reference_manager_filenames = ['BibTeX','repo-recommended-citation','Zotero-plugin','Zotero-wizard','BibDesk','Sciwheel-plugin',\n",
    "                               'SciWheel-wizard','CrossCite','Endnote','Papers-plugin','Papers-wizard','Paperpile-plugin',\n",
    "                               'Paperpile-wizard','Mendeley-plugin','Mendeley-wizard','RefWorks','Export-options']\n",
    "\n",
    "# import files\n",
    "bibtex = pd.read_csv(filepath+filename+reference_manager_filenames[0]+'.csv')\n",
    "repo_recommended_citation = pd.read_csv(filepath+filename+reference_manager_filenames[1]+'.csv')\n",
    "zotero_plugin = pd.read_csv(filepath+filename+reference_manager_filenames[2]+'.csv')\n",
    "zotero_wizard = pd.read_csv(filepath+filename+reference_manager_filenames[3]+'.csv')\n",
    "bib_desk = pd.read_csv(filepath+filename+reference_manager_filenames[4]+'.csv')\n",
    "sciwheel_plugin = pd.read_csv(filepath+filename+reference_manager_filenames[5]+'.csv')\n",
    "sciwheel_wizard = pd.read_csv(filepath+filename+reference_manager_filenames[6]+'.csv')\n",
    "crosscite = pd.read_csv(filepath+filename+reference_manager_filenames[7]+'.csv')\n",
    "endnote = pd.read_csv(filepath+filename+reference_manager_filenames[8]+'.csv')\n",
    "papers_plugin = pd.read_csv(filepath+filename+reference_manager_filenames[9]+'.csv')\n",
    "papers_wizard = pd.read_csv(filepath+filename+reference_manager_filenames[10]+'.csv')\n",
    "paperpile_plugin = pd.read_csv(filepath+filename+reference_manager_filenames[11]+'.csv')\n",
    "paperpile_wizard = pd.read_csv(filepath+filename+reference_manager_filenames[12]+'.csv')\n",
    "mendeley_plugin = pd.read_csv(filepath+filename+reference_manager_filenames[13]+'.csv')\n",
    "mendeley_wizard = pd.read_csv(filepath+filename+reference_manager_filenames[14]+'.csv')\n",
    "refworks = pd.read_csv(filepath+filename+reference_manager_filenames[15]+'.csv')\n",
    "export_options = pd.read_csv(filepath+filename+reference_manager_filenames[16]+'.csv')\n",
    "\n",
    "list_of_ref_managers = [bibtex,repo_recommended_citation,zotero_plugin,zotero_wizard,bib_desk,sciwheel_plugin,\n",
    "                       sciwheel_wizard,crosscite, endnote, papers_plugin,papers_wizard,paperpile_plugin,\n",
    "                       paperpile_wizard,mendeley_plugin,mendeley_wizard,refworks]\n"
   ]
  },
  {
   "cell_type": "markdown",
   "id": "274c1b16",
   "metadata": {},
   "source": [
    "# Functions"
   ]
  },
  {
   "cell_type": "code",
   "execution_count": 182,
   "id": "b7d350c6",
   "metadata": {},
   "outputs": [],
   "source": [
    "# Set up input fields\n",
    "\n",
    "# Define export metadata fields for count_fields\n",
    "\n",
    "ex_cols = ['export-meta-type', 'export-meta-authors','export-meta-title','export-meta-date','export-meta-DOI',\n",
    "            'export-meta-repo','export-meta-version','export-meta-access-date']\n",
    "\n",
    "# Define import metadata fields for count_fields\n",
    "im_cols = ['import-meta-type', 'import-meta-authors','import-meta-title','import-meta-date','import-meta-DOI',\n",
    "            'import-meta-repo','import-meta-version','import-meta-access-date']\n"
   ]
  },
  {
   "cell_type": "code",
   "execution_count": 183,
   "id": "e32c1b4a",
   "metadata": {},
   "outputs": [],
   "source": [
    "# Count correct, missing, incorrect metadata fields for each repository and reference manager (add cols to df)\n",
    "\n",
    "def count_fields(input_df,cols,col_type):\n",
    "    input_df['count_incorrect_'+col_type]=input_df[cols].sum(axis=1) # add a column to df with count \"incorrect\"\n",
    "    input_df['count_missing_'+col_type]= input_df[cols].isna().sum(axis=1) # add a column to df with count 'missing'\n",
    "    # The count correct is len(cols) - (# incorrect + # missing)\n",
    "    input_df['count_correct_'+col_type] = len(cols) - (input_df['count_incorrect_'+col_type]+input_df['count_missing_'+col_type])\n",
    "    return input_df\n"
   ]
  },
  {
   "cell_type": "code",
   "execution_count": 242,
   "id": "2bbb46de",
   "metadata": {},
   "outputs": [],
   "source": [
    "# Count correct, missing, incorrect across all reference managers\n",
    "\n",
    "def sum_across_repos(list_of_dfs, cols, col_type): \n",
    "    # list_of_dfs is df names you wish to analyze; cols is list of columns to analyze; col_type is \"ex\" or \"im\"\n",
    "    \n",
    "    # init full sums\n",
    "    one_sum = np.zeros(3)\n",
    "    full_sums = np.tile(one_sum, (len(list_of_dfs), 1))\n",
    "    for i in range(len(full_sums)):\n",
    "        full_sums[i] = np.zeros(3)\n",
    "    \n",
    "\n",
    "    iter = 0 #start counter\n",
    "    \n",
    "    for df in list_of_dfs: # go through list of dfs\n",
    "        count_fields(df, cols, col_type)\n",
    "        sum_incorrect = np.sum(df['count_incorrect_' + col_type]) # this will be the first list element in return\n",
    "        sum_missing = np.sum(df['count_missing_' + col_type]) # This will be the second list element in return\n",
    "        sum_correct = np.sum(df['count_correct_' + col_type]) #this will be the 3rd list element in return\n",
    "        sums = [sum_incorrect, sum_missing, sum_correct]\n",
    "        full_sums[iter] = sums\n",
    "        iter += 1\n",
    "    \n",
    "    return full_sums\n",
    "    \n",
    "# print(full_sums[0][1]) # access an individual element in this list using list[rows][columns]\n"
   ]
  },
  {
   "cell_type": "code",
   "execution_count": 243,
   "id": "e178827a",
   "metadata": {},
   "outputs": [
    {
     "data": {
      "text/plain": [
       "<function numpy.repeat(a, repeats, axis=None)>"
      ]
     },
     "execution_count": 243,
     "metadata": {},
     "output_type": "execute_result"
    }
   ],
   "source": [
    "np.repeat"
   ]
  },
  {
   "cell_type": "code",
   "execution_count": null,
   "id": "3926b668",
   "metadata": {},
   "outputs": [],
   "source": []
  },
  {
   "cell_type": "code",
   "execution_count": null,
   "id": "c19c48d0",
   "metadata": {},
   "outputs": [],
   "source": []
  },
  {
   "cell_type": "markdown",
   "id": "7a863c5c",
   "metadata": {},
   "source": [
    "# Repository recommended citation\n",
    "* How many repositories offer a recommended citation? \n",
    "* How many repositories offer a recommended citation that is correct when compared to DataCite metadata?\n",
    "* How many repositories define a citation style? \n",
    "* How many repositories offer an opportunity to change the citation style to what journal requires?"
   ]
  },
  {
   "cell_type": "code",
   "execution_count": 244,
   "id": "10bb8ebd",
   "metadata": {},
   "outputs": [
    {
     "name": "stdout",
     "output_type": "stream",
     "text": [
      "3 repositories specify a citation style (APA).\n"
     ]
    },
    {
     "data": {
      "text/plain": [
       "<matplotlib.legend.Legend at 0x7fb9aa863d30>"
      ]
     },
     "execution_count": 244,
     "metadata": {},
     "output_type": "execute_result"
    },
    {
     "data": {
      "image/png": "[encoded data removed]",
      "text/plain": [
       "<Figure size 640x480 with 1 Axes>"
      ]
     },
     "metadata": {},
     "output_type": "display_data"
    }
   ],
   "source": [
    "# Count the correct , incorrect, missing fields - Export Only\n",
    "count_fields(repo_recommended_citation, ex_cols,'ex')\n",
    "\n",
    "# How many repositories specify citation style?\n",
    "\n",
    "num_repo_citation_style = len(repo_recommended_citation[repo_recommended_citation['Citation-style']=='APA'])\n",
    "print(str(num_repo_citation_style)+' repositories specify a citation style (APA).')\n",
    "\n",
    "# Create a stacked bar graph with correct, incorrect, missing fields for each repository\n",
    "\n",
    "## Sort df by most correct fields\n",
    "\n",
    "## Start graphing\n",
    "ax = repo_recommended_citation.sort_values(by=['count_correct_ex'],ascending = False).plot.bar(x = 'Repository', y = ['count_correct_ex','count_incorrect_ex','count_missing_ex'], stacked = True)\n",
    "plt.ylabel('# Metadata Fields')\n",
    "\n",
    "#plt.legend(lines[:3],['Correct Fields','Incorrect Fields','Missing Fields'])\n",
    "ax.legend(loc = 'lower left',framealpha=1)\n",
    "\n",
    "# need to adjust colors, font sizes, rotation of x labels, graph shape, etc."
   ]
  },
  {
   "cell_type": "markdown",
   "id": "73f03e59",
   "metadata": {},
   "source": [
    "# Graph correct fields across all repositories\n",
    "* For each reference manager, what are the # of correct fields across all repositories?\n"
   ]
  },
  {
   "cell_type": "code",
   "execution_count": 265,
   "id": "63b912d5",
   "metadata": {},
   "outputs": [
    {
     "data": {
      "text/plain": [
       "<BarContainer object of 14 artists>"
      ]
     },
     "execution_count": 265,
     "metadata": {},
     "output_type": "execute_result"
    },
    {
     "data": {
      "image/png": "[encoded data removed]",
      "text/plain": [
       "<Figure size 640x480 with 1 Axes>"
      ]
     },
     "metadata": {},
     "output_type": "display_data"
    }
   ],
   "source": [
    "list_of_dfs = (zotero_plugin,zotero_wizard,bib_desk,sciwheel_plugin, sciwheel_wizard,crosscite, \n",
    "               endnote, papers_plugin,papers_wizard,paperpile_plugin,paperpile_wizard,mendeley_plugin,\n",
    "               mendeley_wizard,refworks)\n",
    "\n",
    "repo_export_sums = sum_across_repos(list_of_dfs, ex_cols, 'ex')\n",
    "\n",
    "repo_export_sums_df = pd.DataFrame(data = repo_export_sums, index = reference_manager_filenames[2:-1], columns = ['sum_incorrect', 'sum_missing', 'sum_correct'])\n",
    "repo_export_sums_df_sort = repo_export_sums_df.sort_values(by=['sum_correct'],ascending = False)\n",
    "\n",
    "fig, ax = plt.subplots()\n",
    "offset = 0.25\n",
    "width = 0.25\n",
    "ax.bar(np.arange(14) - offset, repo_export_sums[:, 0], width = width)\n",
    "ax.bar(np.arange(14) + offset, repo_export_sums[:, 1], width = width)\n",
    "ax.bar(np.arange(14), repo_export_sums[:, 2], width = width)"
   ]
  },
  {
   "cell_type": "code",
   "execution_count": 240,
   "id": "6cce9038",
   "metadata": {},
   "outputs": [],
   "source": [
    "one_sum = np.zeros(3)\n",
    "full_sums = np.tile(one_sum, (len(list_of_dfs), 1))"
   ]
  },
  {
   "cell_type": "code",
   "execution_count": 249,
   "id": "d66c3df4",
   "metadata": {},
   "outputs": [
    {
     "data": {
      "text/plain": [
       "array([15., 13.,  0.,  0.,  0.,  0.,  0.,  6.,  0.,  8.,  2.,  0.,  0.,\n",
       "        0.])"
      ]
     },
     "execution_count": 249,
     "metadata": {},
     "output_type": "execute_result"
    }
   ],
   "source": [
    "repo_export_sums[:, 0]"
   ]
  },
  {
   "cell_type": "code",
   "execution_count": 220,
   "id": "7d27b1ae",
   "metadata": {},
   "outputs": [
    {
     "data": {
      "text/plain": [
       "list"
      ]
     },
     "execution_count": 220,
     "metadata": {},
     "output_type": "execute_result"
    }
   ],
   "source": [
    "type(repo_export_sums)"
   ]
  },
  {
   "cell_type": "code",
   "execution_count": 236,
   "id": "fd144d2a",
   "metadata": {},
   "outputs": [
    {
     "ename": "ValueError",
     "evalue": "setting an array element with a sequence.",
     "output_type": "error",
     "traceback": [
      "\u001b[0;31m---------------------------------------------------------------------------\u001b[0m",
      "\u001b[0;31mTypeError\u001b[0m                                 Traceback (most recent call last)",
      "\u001b[0;31mTypeError\u001b[0m: only size-1 arrays can be converted to Python scalars",
      "\nThe above exception was the direct cause of the following exception:\n",
      "\u001b[0;31mValueError\u001b[0m                                Traceback (most recent call last)",
      "Cell \u001b[0;32mIn[236], line 3\u001b[0m\n\u001b[1;32m      1\u001b[0m full_sums \u001b[38;5;241m=\u001b[39m np\u001b[38;5;241m.\u001b[39mzeros(\u001b[38;5;28mlen\u001b[39m(list_of_dfs))\n\u001b[1;32m      2\u001b[0m \u001b[38;5;28;01mfor\u001b[39;00m i \u001b[38;5;129;01min\u001b[39;00m \u001b[38;5;28mrange\u001b[39m(\u001b[38;5;28mlen\u001b[39m(full_sums)):\n\u001b[0;32m----> 3\u001b[0m     full_sums[i] \u001b[38;5;241m=\u001b[39m np\u001b[38;5;241m.\u001b[39marange(\u001b[38;5;241m3\u001b[39m)\n",
      "\u001b[0;31mValueError\u001b[0m: setting an array element with a sequence."
     ]
    }
   ],
   "source": [
    "full_sums = np.zeros(len(list_of_dfs))\n",
    "for i in range(len(full_sums)):\n",
    "    full_sums[i] = np.arange(3)"
   ]
  },
  {
   "cell_type": "code",
   "execution_count": 263,
   "id": "4641bd23",
   "metadata": {},
   "outputs": [],
   "source": [
    "repo_export_sums = np.column_stack((repo_export_sums, reference_manager_filenames[2:-1]))\n"
   ]
  },
  {
   "cell_type": "code",
   "execution_count": 264,
   "id": "0df0f8c0",
   "metadata": {},
   "outputs": [
    {
     "data": {
      "text/plain": [
       "array([['15.0', '40.0', '57.0', 'Zotero-plugin'],\n",
       "       ['13.0', '30.0', '69.0', 'Zotero-wizard'],\n",
       "       ['0.0', '112.0', '0.0', 'BibDesk'],\n",
       "       ['0.0', '112.0', '0.0', 'Sciwheel-plugin'],\n",
       "       ['0.0', '107.0', '5.0', 'SciWheel-wizard'],\n",
       "       ['0.0', '112.0', '0.0', 'CrossCite'],\n",
       "       ['0.0', '112.0', '0.0', 'Endnote'],\n",
       "       ['6.0', '91.0', '15.0', 'Papers-plugin'],\n",
       "       ['0.0', '98.0', '14.0', 'Papers-wizard'],\n",
       "       ['8.0', '89.0', '15.0', 'Paperpile-plugin'],\n",
       "       ['2.0', '31.0', '79.0', 'Paperpile-wizard'],\n",
       "       ['0.0', '112.0', '0.0', 'Mendeley-plugin'],\n",
       "       ['0.0', '112.0', '0.0', 'Mendeley-wizard'],\n",
       "       ['0.0', '112.0', '0.0', 'RefWorks']], dtype='<U32')"
      ]
     },
     "execution_count": 264,
     "metadata": {},
     "output_type": "execute_result"
    }
   ],
   "source": [
    "repo_export_sums"
   ]
  },
  {
   "cell_type": "code",
   "execution_count": null,
   "id": "d6b31625",
   "metadata": {},
   "outputs": [],
   "source": []
  }
 ],
 "metadata": {
  "kernelspec": {
   "display_name": "Python 3 (ipykernel)",
   "language": "python",
   "name": "python3"
  },
  "language_info": {
   "codemirror_mode": {
    "name": "ipython",
    "version": 3
   },
   "file_extension": ".py",
   "mimetype": "text/x-python",
   "name": "python",
   "nbconvert_exporter": "python",
   "pygments_lexer": "ipython3",
   "version": "3.10.9"
  }
 },
 "nbformat": 4,
 "nbformat_minor": 5
}
