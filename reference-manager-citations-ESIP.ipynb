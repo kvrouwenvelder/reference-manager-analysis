{
 "cells": [
  {
   "cell_type": "markdown",
   "id": "9f15f333",
   "metadata": {},
   "source": [
    "# Reference Manager Citation Errors\n",
    "\n",
    "12-18-23 KV\n",
    "2-20-23 KV\n"
   ]
  },
  {
   "cell_type": "code",
   "execution_count": 189,
   "id": "be3552a0",
   "metadata": {},
   "outputs": [],
   "source": [
    "# Import needed packages\n",
    "\n",
    "import numpy as np\n",
    "import pandas as pd\n",
    "import math\n",
    "import matplotlib.pyplot as plt"
   ]
  },
  {
   "cell_type": "code",
   "execution_count": 194,
   "id": "3ef7ca2a",
   "metadata": {},
   "outputs": [],
   "source": [
    "# Read data from where it's entered into CSV\n",
    "\n",
    "filepath = '/Users/kvrouwenvelder/Library/CloudStorage/OneDrive-AmericanGeophysicalUnion/Documents/Data/Reference-Manager-Work/reference-manager-analysis/'\n",
    "filename = 'reference-manager-data-v2-'\n",
    "reference_manager_filenames = ['BibTeX','repo-recommended-citation','Zotero-plugin','Zotero-wizard','BibDesk','Sciwheel-plugin',\n",
    "                               'SciWheel-wizard','CrossCite','Endnote-plugin','Endnote-wizard','Papers-plugin','Papers-wizard','Paperpile-plugin',\n",
    "                               'Paperpile-wizard','Mendeley-plugin','Mendeley-wizard','RefWorks-plugin','Refworks-wizard','Export-options']\n",
    "\n",
    "# import files\n",
    "bibtex = pd.read_csv(filepath+filename+reference_manager_filenames[0]+'.csv')\n",
    "repo_recommended_citation = pd.read_csv(filepath+filename+reference_manager_filenames[1]+'.csv')\n",
    "zotero_plugin = pd.read_csv(filepath+filename+reference_manager_filenames[2]+'.csv')\n",
    "zotero_wizard = pd.read_csv(filepath+filename+reference_manager_filenames[3]+'.csv')\n",
    "bib_desk = pd.read_csv(filepath+filename+reference_manager_filenames[4]+'.csv')\n",
    "sciwheel_plugin = pd.read_csv(filepath+filename+reference_manager_filenames[5]+'.csv')\n",
    "sciwheel_wizard = pd.read_csv(filepath+filename+reference_manager_filenames[6]+'.csv')\n",
    "crosscite = pd.read_csv(filepath+filename+reference_manager_filenames[7]+'.csv')\n",
    "endnote_plugin = pd.read_csv(filepath+filename+reference_manager_filenames[8]+'.csv')\n",
    "endnote_wizard = pd.read_csv(filepath+filename+reference_manager_filenames[9]+'.csv')\n",
    "papers_plugin = pd.read_csv(filepath+filename+reference_manager_filenames[10]+'.csv')\n",
    "papers_wizard = pd.read_csv(filepath+filename+reference_manager_filenames[11]+'.csv')\n",
    "paperpile_plugin = pd.read_csv(filepath+filename+reference_manager_filenames[12]+'.csv')\n",
    "paperpile_wizard = pd.read_csv(filepath+filename+reference_manager_filenames[13]+'.csv')\n",
    "mendeley_plugin = pd.read_csv(filepath+filename+reference_manager_filenames[14]+'.csv')\n",
    "mendeley_wizard = pd.read_csv(filepath+filename+reference_manager_filenames[15]+'.csv')\n",
    "refworks_plugin = pd.read_csv(filepath+filename+reference_manager_filenames[16]+'.csv')\n",
    "refworks_wizard = pd.read_csv(filepath+filename+reference_manager_filenames[17]+'.csv')\n",
    "export_options = pd.read_csv(filepath+filename+reference_manager_filenames[18]+'.csv')\n",
    "\n",
    "list_of_ref_managers = [bibtex,repo_recommended_citation,zotero_plugin,zotero_wizard,bib_desk,sciwheel_plugin,\n",
    "                       sciwheel_wizard,crosscite, endnote_plugin, endnote_wizard, papers_plugin,papers_wizard,paperpile_plugin,\n",
    "                       paperpile_wizard,mendeley_plugin,mendeley_wizard,refworks_plugin,refworks_wizard]\n"
   ]
  },
  {
   "cell_type": "code",
   "execution_count": null,
   "id": "8d4a4493",
   "metadata": {},
   "outputs": [],
   "source": []
  },
  {
   "cell_type": "markdown",
   "id": "274c1b16",
   "metadata": {},
   "source": [
    "# Functions"
   ]
  },
  {
   "cell_type": "code",
   "execution_count": 198,
   "id": "b7d350c6",
   "metadata": {},
   "outputs": [],
   "source": [
    "# Set up input fields\n",
    "\n",
    "# Define export metadata fields for count_fields\n",
    "\n",
    "ex_cols = ['export-meta-type', 'export-meta-authors','export-meta-title','export-meta-date','export-meta-DOI',\n",
    "            'export-meta-repo','export-meta-version','export-meta-access-date']\n",
    "\n",
    "# Define import metadata fields for count_fields\n",
    "im_cols = ['import-meta-type', 'import-meta-authors','import-meta-title','import-meta-date','import-meta-DOI',\n",
    "            'import-meta-repo','import-meta-version','import-meta-access-date']\n"
   ]
  },
  {
   "cell_type": "code",
   "execution_count": 199,
   "id": "e32c1b4a",
   "metadata": {},
   "outputs": [],
   "source": [
    "# Count correct, missing, incorrect metadata fields for each repository and reference manager (add cols to df)\n",
    "\n",
    "def count_fields(input_df,cols,col_type):\n",
    "    input_df['count_incorrect_'+col_type]=input_df[cols].sum(axis=1) # add a column to df with count \"incorrect\"\n",
    "    input_df['count_missing_'+col_type]= input_df[cols].isna().sum(axis=1) # add a column to df with count 'missing'\n",
    "    # The count correct is len(cols) - (# incorrect + # missing)\n",
    "    input_df['count_correct_'+col_type] = len(cols) - (input_df['count_incorrect_'+col_type]+input_df['count_missing_'+col_type])\n",
    "    return input_df\n"
   ]
  },
  {
   "cell_type": "code",
   "execution_count": 200,
   "id": "2bbb46de",
   "metadata": {},
   "outputs": [],
   "source": [
    "# Count correct, missing, incorrect across all REFERENCE MANAGERS\n",
    "\n",
    "def sum_across_repos(list_of_dfs, cols, col_type): \n",
    "    # list_of_dfs is df names you wish to analyze; cols is list of columns to analyze; col_type is \"ex\" or \"im\"\n",
    "    \n",
    "    # init full sums\n",
    "    one_sum = np.zeros(3)\n",
    "    full_sums = np.tile(one_sum, (len(list_of_dfs), 1))\n",
    "    for i in range(len(full_sums)):\n",
    "        full_sums[i] = np.zeros(3)\n",
    "    \n",
    "\n",
    "    iter = 0 #start counter\n",
    "    \n",
    "    for df in list_of_dfs: # go through list of dfs\n",
    "        count_fields(df, cols, col_type)\n",
    "        sum_incorrect = np.sum(df['count_incorrect_' + col_type]) # this will be the first list element in return\n",
    "        sum_missing = np.sum(df['count_missing_' + col_type]) # This will be the second list element in return\n",
    "        sum_correct = np.sum(df['count_correct_' + col_type]) #this will be the 3rd list element in return\n",
    "        sums = [sum_incorrect, sum_missing, sum_correct]\n",
    "        full_sums[iter] = sums\n",
    "        iter += 1\n",
    "    \n",
    "    return full_sums\n",
    "    \n",
    "# print(full_sums[0][1]) # access an individual element in this list using list[rows][columns]\n"
   ]
  },
  {
   "cell_type": "code",
   "execution_count": 201,
   "id": "e178827a",
   "metadata": {},
   "outputs": [],
   "source": [
    "# Count correct, missing, incorrect across all REPOSITORIES\n",
    "\n",
    "def sum_across_refmans(list_of_dfs, cols, col_type): \n",
    "    # list_of_dfs is df names you wish to analyze; cols is list of columns to analyze; col_type is \"ex\" or \"im\"\n",
    "    \n",
    "    # init full sums df\n",
    "    # Number of rows will = # repos in this list\n",
    "    data = {str('sum_incorrect_'+col_type): np.zeros(len(repo_recommended_citation['Repository'])), #init w zeros\n",
    "        str('sum_missing_'+col_type): np.zeros(len(repo_recommended_citation['Repository'])),\n",
    "        str('sum_correct_'+col_type): np.zeros(len(repo_recommended_citation['Repository']))}\n",
    "\n",
    "\n",
    "    full_sums_df = pd.DataFrame(data) # make empty df \n",
    "    full_sums_df['Repository'] = repo_recommended_citation['Repository'] # Add repository column\n",
    "    \n",
    "    for df in list_of_dfs: # go through list of dfs\n",
    "        count_fields(df, cols, col_type) #returns that dataframe with the 3 sums added\n",
    "        \n",
    "        #add sum of each new column to existing dataframe\n",
    "        full_sums_df['sum_incorrect_'+col_type] += df['count_incorrect_'+col_type]\n",
    "        full_sums_df['sum_missing_'+col_type] += df['count_missing_'+col_type]\n",
    "        full_sums_df['sum_correct_'+col_type] += df['count_correct_'+col_type]\n",
    "    \n",
    "    return full_sums_df\n",
    "    "
   ]
  },
  {
   "cell_type": "code",
   "execution_count": 223,
   "id": "3926b668",
   "metadata": {},
   "outputs": [],
   "source": [
    "check = count_fields(refworks_plugin, im_cols, 'im)')"
   ]
  },
  {
   "cell_type": "code",
   "execution_count": null,
   "id": "c19c48d0",
   "metadata": {},
   "outputs": [],
   "source": []
  },
  {
   "cell_type": "markdown",
   "id": "7a863c5c",
   "metadata": {},
   "source": [
    "# Repository recommended citation\n",
    "* How many repositories offer a recommended citation? \n",
    "* How many repositories offer a recommended citation that is correct when compared to DataCite metadata?\n",
    "* How many repositories define a citation style? \n",
    "* How many repositories offer an opportunity to change the citation style to what journal requires?"
   ]
  },
  {
   "cell_type": "code",
   "execution_count": 202,
   "id": "10bb8ebd",
   "metadata": {},
   "outputs": [
    {
     "name": "stdout",
     "output_type": "stream",
     "text": [
      "3 repositories specify a citation style (APA).\n"
     ]
    },
    {
     "data": {
      "text/plain": [
       "<matplotlib.legend.Legend at 0x7f9d085b4070>"
      ]
     },
     "execution_count": 202,
     "metadata": {},
     "output_type": "execute_result"
    },
    {
     "data": {
      "image/png": "[encoded data removed]",
      "text/plain": [
       "<Figure size 640x480 with 1 Axes>"
      ]
     },
     "metadata": {},
     "output_type": "display_data"
    }
   ],
   "source": [
    "# Count the correct , incorrect, missing fields - Export Only\n",
    "count_fields(repo_recommended_citation, ex_cols,'ex')\n",
    "\n",
    "# How many repositories specify citation style?\n",
    "\n",
    "num_repo_citation_style = len(repo_recommended_citation[repo_recommended_citation['Citation-style']=='APA'])\n",
    "print(str(num_repo_citation_style)+' repositories specify a citation style (APA).')\n",
    "\n",
    "# Create a stacked bar graph with correct, incorrect, missing fields for each repository\n",
    "\n",
    "## Sort df by most correct fields\n",
    "\n",
    "## Start graphing\n",
    "ax = repo_recommended_citation.sort_values(by=['count_correct_ex'],ascending = False).plot.bar(x = 'Repository', y = ['count_correct_ex','count_incorrect_ex','count_missing_ex'], stacked = True, label = ['Correct', 'Incorrect', 'Missing'])\n",
    "plt.ylabel('# Metadata Fields')\n",
    "ax.legend(loc = 'lower left',framealpha=1)\n",
    "\n",
    "# need to adjust colors, font sizes, rotation of x labels, graph shape, etc."
   ]
  },
  {
   "cell_type": "markdown",
   "id": "73f03e59",
   "metadata": {},
   "source": [
    "# Graph correct fields across all repositories\n",
    "* For each reference manager, what are the # of correct fields across all repositories?\n",
    "\n",
    "This can be done for either the import or export fields.\n"
   ]
  },
  {
   "cell_type": "code",
   "execution_count": null,
   "id": "63b912d5",
   "metadata": {},
   "outputs": [
    {
     "name": "stderr",
     "output_type": "stream",
     "text": [
      "/var/folders/zl/xzgzfcgs1p7cgrbjxvk_mhg40000gp/T/ipykernel_97383/1083502132.py:4: FutureWarning: Dropping of nuisance columns in DataFrame reductions (with 'numeric_only=None') is deprecated; in a future version this will raise TypeError.  Select only valid columns before calling the reduction.\n",
      "  input_df['count_incorrect_'+col_type]=input_df[cols].sum(axis=1) # add a column to df with count \"incorrect\"\n"
     ]
    },
    {
     "data": {
      "text/plain": [
       "<matplotlib.legend.Legend at 0x7f9d6933b340>"
      ]
     },
     "execution_count": 243,
     "metadata": {},
     "output_type": "execute_result"
    }
   ],
   "source": [
    "# Must exclude crosscite for import\n",
    "\n",
    "list_of_dfs = (zotero_plugin,zotero_wizard,bib_desk,sciwheel_plugin, sciwheel_wizard, \n",
    "             endnote_plugin, endnote_wizard, papers_plugin,papers_wizard,paperpile_plugin,paperpile_wizard,mendeley_plugin,\n",
    "               mendeley_wizard,refworks_plugin,refworks_wizard)\n",
    "\n",
    "# Get list of reference-manager-filename indices to add to repo-import-sums-df\n",
    "list_of_indices = reference_manager_filenames[2:7]+reference_manager_filenames[8:-1]\n",
    "\n",
    "\n",
    "\n",
    "repo_import_sums = sum_across_repos(list_of_dfs, im_cols, 'im')\n",
    "\n",
    "repo_import_sums_df = pd.DataFrame(data = repo_import_sums, index = list_of_indices, columns = ['sum_incorrect', 'sum_missing', 'sum_correct'])\n",
    "repo_import_sums_df_sort = repo_import_sums_df.sort_values(by=['sum_correct'],ascending = False)\n",
    "\n",
    "fig, ax = plt.subplots()\n",
    "x = np.arange(len(list_of_dfs)) # of reference managers\n",
    "y = len(list_of_dfs)*8 # Max value possible for repo_export_sums for each ref manager\n",
    "offset = 0.25\n",
    "width = 0.25\n",
    "ax.bar(x - offset, repo_import_sums_df_sort['sum_correct'], width = width, label = 'Correct')\n",
    "ax.bar(x + offset, repo_import_sums_df_sort['sum_incorrect'], width = width, label = 'Incorrect')\n",
    "ax.bar(x, repo_import_sums_df_sort['sum_missing'], width = width, label = 'Missing')\n",
    "\n",
    "# set labels and ticks and axes\n",
    "ax.set_xticks(x,repo_import_sums_df_sort.index, rotation = 75)\n",
    "ax.set_yticks([0,y/4,y/2,3*y/4,y])\n",
    "ax.set_ylabel('# Metadata Fields')\n",
    "ax.legend()"
   ]
  },
  {
   "cell_type": "code",
   "execution_count": 237,
   "id": "c9012b9d",
   "metadata": {},
   "outputs": [
    {
     "ename": "AttributeError",
     "evalue": "'list' object has no attribute 'loc'",
     "output_type": "error",
     "traceback": [
      "\u001b[0;31m---------------------------------------------------------------------------\u001b[0m",
      "\u001b[0;31mAttributeError\u001b[0m                            Traceback (most recent call last)",
      "Cell \u001b[0;32mIn[237], line 1\u001b[0m\n\u001b[0;32m----> 1\u001b[0m \u001b[43mreference_manager_filenames\u001b[49m\u001b[38;5;241;43m.\u001b[39;49m\u001b[43mloc\u001b[49m(\u001b[38;5;241m1\u001b[39m)\n",
      "\u001b[0;31mAttributeError\u001b[0m: 'list' object has no attribute 'loc'"
     ]
    }
   ],
   "source": [
    "reference_manager_filenames.loc(1)"
   ]
  },
  {
   "cell_type": "markdown",
   "id": "f5ba3743",
   "metadata": {},
   "source": [
    "# Bibtex\n",
    "* How many repositories offer Bibtex exports and in what formats?\n",
    "* Are Bibtex fields correct? "
   ]
  },
  {
   "cell_type": "code",
   "execution_count": 211,
   "id": "65a17350",
   "metadata": {},
   "outputs": [
    {
     "data": {
      "image/png": "[encoded data removed]",
      "text/plain": [
       "<Figure size 640x480 with 1 Axes>"
      ]
     },
     "metadata": {},
     "output_type": "display_data"
    }
   ],
   "source": [
    "# First how many repos offer Bibtex exports\n",
    "\n",
    "# Count whether there is a bibtex export or not\n",
    "\n",
    "# no bibtex\n",
    "sum_no_bibtex = np.sum(bibtex['export-exists'].isna())\n",
    "sum_bibtex = len(bibtex['export-exists'])-sum_no_bibtex\n",
    "\n",
    "# Filter by type\n",
    "bibtex_na = bibtex[bibtex['export-exists'].isna()]\n",
    "bibtex_dataset = bibtex[bibtex['export-file-type'].str.contains('dataset', na=False)]\n",
    "bibtex_misc = bibtex[bibtex['export-file-type'].str.contains('misc', na=False)]\n",
    "bibtex_data = bibtex[bibtex['export-file-type'].str.contains('data', na=False)]\n",
    "bibtex_incoll = bibtex[bibtex['export-file-type'].str.contains('incollection', na=False)]\n",
    "bibtex_article = bibtex[bibtex['export-file-type'].str.contains('article', na=False)]\n",
    "\n",
    "\n",
    "# # bar chart for bibtex or NO\n",
    "# fig, ax = plt.subplots()\n",
    "# ax.bar([1,2], [sum_bibtex, sum_no_bibtex], label = 'Correct')\n",
    "\n",
    "labels = ['No Export','@dataset','@misc','@data','@InCollection','@article']\n",
    "sizes = [len(bibtex_na['export-exists']), len(bibtex_dataset['export-exists']),len(bibtex_misc['export-exists']),\n",
    "         len(bibtex_data['export-exists']),len(bibtex_incoll['export-exists']),len(bibtex_article['export-exists'])]\n",
    "\n",
    "# Plot pie chart\n",
    "fig1, ax1 = plt.subplots()\n",
    "ax1.pie(sizes, labels=labels, autopct='%1.1f%%')\n",
    "plt.show()\n",
    "\n"
   ]
  },
  {
   "cell_type": "code",
   "execution_count": 212,
   "id": "6601fdd4",
   "metadata": {},
   "outputs": [
    {
     "data": {
      "image/png": "[encoded data removed]",
      "text/plain": [
       "<Figure size 640x480 with 1 Axes>"
      ]
     },
     "metadata": {},
     "output_type": "display_data"
    }
   ],
   "source": [
    "# Count the correct , incorrect, missing fields - Import Only\n",
    "count_fields(bibtex, im_cols,'im')\n",
    "\n",
    "# Filter by only repos offering bibtex export, sort, Graph\n",
    "ax2 = bibtex.loc[bibtex['export-exists']==0.0].sort_values(by=['count_correct_im'],ascending = False).plot.bar(x = 'Repository', y = ['count_correct_im','count_incorrect_im','count_missing_im'], stacked = True, label = ['Correct', 'Incorrect','Missing'])\n",
    "plt.ylabel('# Metadata Fields')\n",
    "ax2.legend(loc = 'lower left',framealpha=1)\n",
    "ax2.set_xticks(np.arange(7), labels = bibtex['Repository'].loc[bibtex['export-exists']==0],rotation=75)\n",
    "plt.show()"
   ]
  },
  {
   "cell_type": "markdown",
   "id": "4f05c129",
   "metadata": {},
   "source": [
    "# Best Repository Citation Metadata\n",
    "\n",
    "* are there any repositories that are performing exceptionally well across reference managers?\n",
    "\n",
    "Use import data and sum across sheets - how many '0s'. \n",
    "\n",
    "\n",
    "Could also break out the 8 metadata fields on a by-repository basis and count across the sheets for a single repository for each field, but this would be pretty challenging to graph"
   ]
  },
  {
   "cell_type": "code",
   "execution_count": 213,
   "id": "3cdc5b29",
   "metadata": {},
   "outputs": [
    {
     "name": "stderr",
     "output_type": "stream",
     "text": [
      "/var/folders/zl/xzgzfcgs1p7cgrbjxvk_mhg40000gp/T/ipykernel_97383/1083502132.py:4: FutureWarning: Dropping of nuisance columns in DataFrame reductions (with 'numeric_only=None') is deprecated; in a future version this will raise TypeError.  Select only valid columns before calling the reduction.\n",
      "  input_df['count_incorrect_'+col_type]=input_df[cols].sum(axis=1) # add a column to df with count \"incorrect\"\n"
     ]
    },
    {
     "ename": "KeyError",
     "evalue": "\"None of [Index(['import-meta-type', 'import-meta-authors', 'import-meta-title',\\n       'import-meta-date', 'import-meta-DOI', 'import-meta-repo',\\n       'import-meta-version', 'import-meta-access-date'],\\n      dtype='object')] are in the [columns]\"",
     "output_type": "error",
     "traceback": [
      "\u001b[0;31m---------------------------------------------------------------------------\u001b[0m",
      "\u001b[0;31mKeyError\u001b[0m                                  Traceback (most recent call last)",
      "Cell \u001b[0;32mIn[213], line 6\u001b[0m\n\u001b[1;32m      1\u001b[0m list_of_dfs \u001b[38;5;241m=\u001b[39m (zotero_plugin,zotero_wizard,bib_desk,sciwheel_plugin, sciwheel_wizard,crosscite, \n\u001b[1;32m      2\u001b[0m                endnote, papers_plugin,papers_wizard,paperpile_plugin,paperpile_wizard,mendeley_plugin,\n\u001b[1;32m      3\u001b[0m                mendeley_wizard,refworks)\n\u001b[1;32m      5\u001b[0m \u001b[38;5;66;03m# Get repository metadata field sums across reference managers\u001b[39;00m\n\u001b[0;32m----> 6\u001b[0m refman_import_sums \u001b[38;5;241m=\u001b[39m \u001b[43msum_across_refmans\u001b[49m\u001b[43m(\u001b[49m\u001b[43mlist_of_dfs\u001b[49m\u001b[43m,\u001b[49m\u001b[43m \u001b[49m\u001b[43mim_cols\u001b[49m\u001b[43m,\u001b[49m\u001b[43m \u001b[49m\u001b[38;5;124;43m'\u001b[39;49m\u001b[38;5;124;43mim\u001b[39;49m\u001b[38;5;124;43m'\u001b[39;49m\u001b[43m)\u001b[49m\n\u001b[1;32m      8\u001b[0m \u001b[38;5;66;03m# Graph\u001b[39;00m\n\u001b[1;32m     10\u001b[0m refman_import_sums_sort \u001b[38;5;241m=\u001b[39m refman_import_sums\u001b[38;5;241m.\u001b[39msort_values(by\u001b[38;5;241m=\u001b[39m[\u001b[38;5;124m'\u001b[39m\u001b[38;5;124msum_correct_im\u001b[39m\u001b[38;5;124m'\u001b[39m],ascending \u001b[38;5;241m=\u001b[39m \u001b[38;5;28;01mFalse\u001b[39;00m)\n",
      "Cell \u001b[0;32mIn[201], line 17\u001b[0m, in \u001b[0;36msum_across_refmans\u001b[0;34m(list_of_dfs, cols, col_type)\u001b[0m\n\u001b[1;32m     14\u001b[0m full_sums_df[\u001b[38;5;124m'\u001b[39m\u001b[38;5;124mRepository\u001b[39m\u001b[38;5;124m'\u001b[39m] \u001b[38;5;241m=\u001b[39m repo_recommended_citation[\u001b[38;5;124m'\u001b[39m\u001b[38;5;124mRepository\u001b[39m\u001b[38;5;124m'\u001b[39m] \u001b[38;5;66;03m# Add repository column\u001b[39;00m\n\u001b[1;32m     16\u001b[0m \u001b[38;5;28;01mfor\u001b[39;00m df \u001b[38;5;129;01min\u001b[39;00m list_of_dfs: \u001b[38;5;66;03m# go through list of dfs\u001b[39;00m\n\u001b[0;32m---> 17\u001b[0m     \u001b[43mcount_fields\u001b[49m\u001b[43m(\u001b[49m\u001b[43mdf\u001b[49m\u001b[43m,\u001b[49m\u001b[43m \u001b[49m\u001b[43mcols\u001b[49m\u001b[43m,\u001b[49m\u001b[43m \u001b[49m\u001b[43mcol_type\u001b[49m\u001b[43m)\u001b[49m \u001b[38;5;66;03m#returns that dataframe with the 3 sums added\u001b[39;00m\n\u001b[1;32m     19\u001b[0m     \u001b[38;5;66;03m#add sum of each new column to existing dataframe\u001b[39;00m\n\u001b[1;32m     20\u001b[0m     full_sums_df[\u001b[38;5;124m'\u001b[39m\u001b[38;5;124msum_incorrect_\u001b[39m\u001b[38;5;124m'\u001b[39m\u001b[38;5;241m+\u001b[39mcol_type] \u001b[38;5;241m+\u001b[39m\u001b[38;5;241m=\u001b[39m df[\u001b[38;5;124m'\u001b[39m\u001b[38;5;124mcount_incorrect_\u001b[39m\u001b[38;5;124m'\u001b[39m\u001b[38;5;241m+\u001b[39mcol_type]\n",
      "Cell \u001b[0;32mIn[199], line 4\u001b[0m, in \u001b[0;36mcount_fields\u001b[0;34m(input_df, cols, col_type)\u001b[0m\n\u001b[1;32m      3\u001b[0m \u001b[38;5;28;01mdef\u001b[39;00m \u001b[38;5;21mcount_fields\u001b[39m(input_df,cols,col_type):\n\u001b[0;32m----> 4\u001b[0m     input_df[\u001b[38;5;124m'\u001b[39m\u001b[38;5;124mcount_incorrect_\u001b[39m\u001b[38;5;124m'\u001b[39m\u001b[38;5;241m+\u001b[39mcol_type]\u001b[38;5;241m=\u001b[39m\u001b[43minput_df\u001b[49m\u001b[43m[\u001b[49m\u001b[43mcols\u001b[49m\u001b[43m]\u001b[49m\u001b[38;5;241m.\u001b[39msum(axis\u001b[38;5;241m=\u001b[39m\u001b[38;5;241m1\u001b[39m) \u001b[38;5;66;03m# add a column to df with count \"incorrect\"\u001b[39;00m\n\u001b[1;32m      5\u001b[0m     input_df[\u001b[38;5;124m'\u001b[39m\u001b[38;5;124mcount_missing_\u001b[39m\u001b[38;5;124m'\u001b[39m\u001b[38;5;241m+\u001b[39mcol_type]\u001b[38;5;241m=\u001b[39m input_df[cols]\u001b[38;5;241m.\u001b[39misna()\u001b[38;5;241m.\u001b[39msum(axis\u001b[38;5;241m=\u001b[39m\u001b[38;5;241m1\u001b[39m) \u001b[38;5;66;03m# add a column to df with count 'missing'\u001b[39;00m\n\u001b[1;32m      6\u001b[0m     \u001b[38;5;66;03m# The count correct is len(cols) - (# incorrect + # missing)\u001b[39;00m\n",
      "File \u001b[0;32m~/anaconda3/lib/python3.10/site-packages/pandas/core/frame.py:3813\u001b[0m, in \u001b[0;36mDataFrame.__getitem__\u001b[0;34m(self, key)\u001b[0m\n\u001b[1;32m   3811\u001b[0m     \u001b[38;5;28;01mif\u001b[39;00m is_iterator(key):\n\u001b[1;32m   3812\u001b[0m         key \u001b[38;5;241m=\u001b[39m \u001b[38;5;28mlist\u001b[39m(key)\n\u001b[0;32m-> 3813\u001b[0m     indexer \u001b[38;5;241m=\u001b[39m \u001b[38;5;28;43mself\u001b[39;49m\u001b[38;5;241;43m.\u001b[39;49m\u001b[43mcolumns\u001b[49m\u001b[38;5;241;43m.\u001b[39;49m\u001b[43m_get_indexer_strict\u001b[49m\u001b[43m(\u001b[49m\u001b[43mkey\u001b[49m\u001b[43m,\u001b[49m\u001b[43m \u001b[49m\u001b[38;5;124;43m\"\u001b[39;49m\u001b[38;5;124;43mcolumns\u001b[39;49m\u001b[38;5;124;43m\"\u001b[39;49m\u001b[43m)\u001b[49m[\u001b[38;5;241m1\u001b[39m]\n\u001b[1;32m   3815\u001b[0m \u001b[38;5;66;03m# take() does not accept boolean indexers\u001b[39;00m\n\u001b[1;32m   3816\u001b[0m \u001b[38;5;28;01mif\u001b[39;00m \u001b[38;5;28mgetattr\u001b[39m(indexer, \u001b[38;5;124m\"\u001b[39m\u001b[38;5;124mdtype\u001b[39m\u001b[38;5;124m\"\u001b[39m, \u001b[38;5;28;01mNone\u001b[39;00m) \u001b[38;5;241m==\u001b[39m \u001b[38;5;28mbool\u001b[39m:\n",
      "File \u001b[0;32m~/anaconda3/lib/python3.10/site-packages/pandas/core/indexes/base.py:6070\u001b[0m, in \u001b[0;36mIndex._get_indexer_strict\u001b[0;34m(self, key, axis_name)\u001b[0m\n\u001b[1;32m   6067\u001b[0m \u001b[38;5;28;01melse\u001b[39;00m:\n\u001b[1;32m   6068\u001b[0m     keyarr, indexer, new_indexer \u001b[38;5;241m=\u001b[39m \u001b[38;5;28mself\u001b[39m\u001b[38;5;241m.\u001b[39m_reindex_non_unique(keyarr)\n\u001b[0;32m-> 6070\u001b[0m \u001b[38;5;28;43mself\u001b[39;49m\u001b[38;5;241;43m.\u001b[39;49m\u001b[43m_raise_if_missing\u001b[49m\u001b[43m(\u001b[49m\u001b[43mkeyarr\u001b[49m\u001b[43m,\u001b[49m\u001b[43m \u001b[49m\u001b[43mindexer\u001b[49m\u001b[43m,\u001b[49m\u001b[43m \u001b[49m\u001b[43maxis_name\u001b[49m\u001b[43m)\u001b[49m\n\u001b[1;32m   6072\u001b[0m keyarr \u001b[38;5;241m=\u001b[39m \u001b[38;5;28mself\u001b[39m\u001b[38;5;241m.\u001b[39mtake(indexer)\n\u001b[1;32m   6073\u001b[0m \u001b[38;5;28;01mif\u001b[39;00m \u001b[38;5;28misinstance\u001b[39m(key, Index):\n\u001b[1;32m   6074\u001b[0m     \u001b[38;5;66;03m# GH 42790 - Preserve name from an Index\u001b[39;00m\n",
      "File \u001b[0;32m~/anaconda3/lib/python3.10/site-packages/pandas/core/indexes/base.py:6130\u001b[0m, in \u001b[0;36mIndex._raise_if_missing\u001b[0;34m(self, key, indexer, axis_name)\u001b[0m\n\u001b[1;32m   6128\u001b[0m     \u001b[38;5;28;01mif\u001b[39;00m use_interval_msg:\n\u001b[1;32m   6129\u001b[0m         key \u001b[38;5;241m=\u001b[39m \u001b[38;5;28mlist\u001b[39m(key)\n\u001b[0;32m-> 6130\u001b[0m     \u001b[38;5;28;01mraise\u001b[39;00m \u001b[38;5;167;01mKeyError\u001b[39;00m(\u001b[38;5;124mf\u001b[39m\u001b[38;5;124m\"\u001b[39m\u001b[38;5;124mNone of [\u001b[39m\u001b[38;5;132;01m{\u001b[39;00mkey\u001b[38;5;132;01m}\u001b[39;00m\u001b[38;5;124m] are in the [\u001b[39m\u001b[38;5;132;01m{\u001b[39;00maxis_name\u001b[38;5;132;01m}\u001b[39;00m\u001b[38;5;124m]\u001b[39m\u001b[38;5;124m\"\u001b[39m)\n\u001b[1;32m   6132\u001b[0m not_found \u001b[38;5;241m=\u001b[39m \u001b[38;5;28mlist\u001b[39m(ensure_index(key)[missing_mask\u001b[38;5;241m.\u001b[39mnonzero()[\u001b[38;5;241m0\u001b[39m]]\u001b[38;5;241m.\u001b[39munique())\n\u001b[1;32m   6133\u001b[0m \u001b[38;5;28;01mraise\u001b[39;00m \u001b[38;5;167;01mKeyError\u001b[39;00m(\u001b[38;5;124mf\u001b[39m\u001b[38;5;124m\"\u001b[39m\u001b[38;5;132;01m{\u001b[39;00mnot_found\u001b[38;5;132;01m}\u001b[39;00m\u001b[38;5;124m not in index\u001b[39m\u001b[38;5;124m\"\u001b[39m)\n",
      "\u001b[0;31mKeyError\u001b[0m: \"None of [Index(['import-meta-type', 'import-meta-authors', 'import-meta-title',\\n       'import-meta-date', 'import-meta-DOI', 'import-meta-repo',\\n       'import-meta-version', 'import-meta-access-date'],\\n      dtype='object')] are in the [columns]\""
     ]
    }
   ],
   "source": [
    "list_of_dfs = (zotero_plugin,zotero_wizard,bib_desk,sciwheel_plugin, sciwheel_wizard,crosscite, \n",
    "               endnote, papers_plugin,papers_wizard,paperpile_plugin,paperpile_wizard,mendeley_plugin,\n",
    "               mendeley_wizard,refworks)\n",
    "\n",
    "# Get repository metadata field sums across reference managers\n",
    "refman_import_sums = sum_across_refmans(list_of_dfs, im_cols, 'im')\n",
    "\n",
    "# Graph\n",
    "\n",
    "refman_import_sums_sort = refman_import_sums.sort_values(by=['sum_correct_im'],ascending = False)\n",
    "\n",
    "fig, ax = plt.subplots()\n",
    "x = np.arange(14)\n",
    "y = 112 # Max value possible for repo_export_sums for each ref manager\n",
    "offset = 0.25\n",
    "width = 0.25\n",
    "ax.bar(x - offset, refman_import_sums_sort['sum_correct_im'], width = width, label = 'Correct')\n",
    "ax.bar(x + offset, refman_import_sums_sort['sum_incorrect_im'], width = width, label = 'Incorrect')\n",
    "ax.bar(x, refman_import_sums_sort['sum_missing_im'], width = width, label = 'Missing')\n",
    "\n",
    "# set labels and ticks and axes\n",
    "ax.set_xticks(x,refman_import_sums_sort['Repository'], rotation = 75) # Use Repository column\n",
    "ax.set_yticks([0,y/4,y/2,3*y/4,y])\n",
    "ax.set_ylabel('# Metadata Fields')\n",
    "ax.legend()\n",
    "\n",
    "plt.show()"
   ]
  },
  {
   "cell_type": "markdown",
   "id": "9fec9dca",
   "metadata": {},
   "source": [
    "# Most common errors by metadata field\n",
    "\n",
    "* by import\n",
    "* by export\n",
    "\n",
    "Result should be a single graph with all field types that are common between import and export (meta-type, meta-authors, meta-title, meta-date, meta-DOI, meta-repo, meta-version, meta-access), with a column for import and export\n",
    "\n",
    "first init a dataframe with 8 rows. col1 = import, col2, 3, 4 = sums for each row for correct/incorrect/missing import, col 5 = export types, col 6, 7, 8 = sums for each row for correct/incorrect/missing import\n",
    "\n",
    "next will need to use the same logic as count_fields to sum across list_of_dfs for each metadata field\n",
    "    for input df, get the number correct, missing, and incorrect for each field across all repositories and add it to the init_df (+= operator should work here)\n",
    "    do this for all dataframes\n",
    "\n"
   ]
  },
  {
   "cell_type": "code",
   "execution_count": null,
   "id": "f11eda88",
   "metadata": {},
   "outputs": [],
   "source": [
    "# list dfs to include\n",
    "\n",
    "list_of_dfs = (zotero_plugin,zotero_wizard,bib_desk,sciwheel_plugin, sciwheel_wizard,crosscite, \n",
    "               endnote, papers_plugin,papers_wizard,paperpile_plugin,paperpile_wizard,mendeley_plugin,\n",
    "               mendeley_wizard,refworks)\n",
    "\n",
    "# other parameters\n",
    "\n",
    "# initialize a df to hold all the author metadata sums\n",
    "num_meta_fields = 8\n",
    "str_meta_type = 'im'\n",
    "\n",
    "data = {'Metadata_fields': ['Type',\n",
    "                            'Author',\n",
    "                            'Title',\n",
    "                            'Date',\n",
    "                            'DOI',\n",
    "                            'Repository',\n",
    "                            'Version',\n",
    "                            'Access Date'],\n",
    "       'sum_incorrect_im': np.zeros(num_meta_fields),\n",
    "       'sum_missing_im': np.zeros(num_meta_fields),\n",
    "       'sum_correct_im': np.zeros(num_meta_fields),\n",
    "       'sum_incorrect_ex': np.zeros(num_meta_fields),\n",
    "       'sum_missing_ex': np.zeros(num_meta_fields),\n",
    "       'sum_correct_ex': np.zeros(num_meta_fields)}\n",
    "\n",
    "meta_sums = pd.DataFrame(data)\n",
    "# meta_sums['Metadata_fields'] = ['Type',\n",
    "#                                 'Author',\n",
    "#                                'Title',\n",
    "#                                'Date',\n",
    "#                                'DOI',\n",
    "#                                'Repository',\n",
    "#                                'Version',\n",
    "#                                'Access Date']\n",
    "# for df in list_of_dfs: \n",
    "# meta_sums['count_incorrect_'+str_meta_type][0] = zotero_plugin[str_meta_type+'port_meta_type']\n",
    "# meta_sums['count_incorrect_'+str_meta_type][1] = zotero_plugin[str_meta_type+'port_meta_type']  \n",
    "\n",
    "#do sum operation"
   ]
  },
  {
   "cell_type": "code",
   "execution_count": null,
   "id": "a8abafc4",
   "metadata": {},
   "outputs": [],
   "source": [
    "input_df['count_incorrect_'+col_type]=input_df[cols].sum(axis=1) # add a column to df with count \"incorrect\"\n",
    "input_df['count_missing_'+col_type]= input_df[cols].isna().sum(axis=1) # add a column to df with count 'missing'\n",
    "# The count correct is len(cols) - (# incorrect + # missing)\n",
    "input_df['count_correct_'+col_type] = len(cols) - (input_df['count_incorrect_'+col_type]+input_df['count_missing_'+col_type])\n"
   ]
  },
  {
   "cell_type": "code",
   "execution_count": null,
   "id": "287b1c40",
   "metadata": {},
   "outputs": [],
   "source": [
    "\n"
   ]
  },
  {
   "cell_type": "code",
   "execution_count": null,
   "id": "89de1f3f",
   "metadata": {},
   "outputs": [],
   "source": []
  },
  {
   "cell_type": "code",
   "execution_count": null,
   "id": "808e2d8e",
   "metadata": {},
   "outputs": [],
   "source": []
  },
  {
   "cell_type": "code",
   "execution_count": null,
   "id": "e57e9723",
   "metadata": {},
   "outputs": [],
   "source": []
  },
  {
   "cell_type": "code",
   "execution_count": null,
   "id": "26eaa201",
   "metadata": {},
   "outputs": [],
   "source": []
  },
  {
   "cell_type": "markdown",
   "id": "a32418a3",
   "metadata": {},
   "source": []
  },
  {
   "cell_type": "code",
   "execution_count": null,
   "id": "9e346767",
   "metadata": {},
   "outputs": [],
   "source": [
    "# This will sum across each dataframe the INCORRECTS and add it to meta _sums. \n",
    "# Have to use the index to add to the correct column\n",
    "# Need to add one using isna for missing, then use subtraction to find correct\n",
    "# then iterate through dfs and keep adding to meta_sums\n",
    "\n",
    "sums = zotero_plugin.sum(numeric_only=True)\n",
    "\n",
    "sums = sums.to_numpy()\n",
    "\n",
    "meta_sums.loc[:, ('sum_incorrect_'+str_meta_type)] = sums[0:8]\n"
   ]
  },
  {
   "cell_type": "code",
   "execution_count": null,
   "id": "be8d30c1",
   "metadata": {},
   "outputs": [],
   "source": [
    "meta_sums"
   ]
  },
  {
   "cell_type": "code",
   "execution_count": null,
   "id": "c9bda9b2",
   "metadata": {},
   "outputs": [],
   "source": []
  },
  {
   "cell_type": "markdown",
   "id": "0db50b1b",
   "metadata": {},
   "source": []
  },
  {
   "cell_type": "code",
   "execution_count": 242,
   "id": "3e58743b",
   "metadata": {},
   "outputs": [
    {
     "name": "stdout",
     "output_type": "stream",
     "text": [
      "['Zotero-plugin', 'Zotero-wizard', 'BibDesk', 'Sciwheel-plugin', 'SciWheel-wizard', 'Endnote-plugin', 'Endnote-wizard', 'Papers-plugin', 'Papers-wizard', 'Paperpile-plugin', 'Paperpile-wizard', 'Mendeley-plugin', 'Mendeley-wizard', 'RefWorks-plugin', 'Refworks-wizard']\n"
     ]
    }
   ],
   "source": [
    "list_of_indices = reference_manager_filenames[2:7]+reference_manager_filenames[8:-1]\n",
    "print(list_of_indices)"
   ]
  },
  {
   "cell_type": "code",
   "execution_count": null,
   "id": "34aaae19",
   "metadata": {},
   "outputs": [],
   "source": []
  },
  {
   "cell_type": "code",
   "execution_count": null,
   "id": "03633f62",
   "metadata": {},
   "outputs": [],
   "source": []
  },
  {
   "cell_type": "code",
   "execution_count": null,
   "id": "3c57bc9b",
   "metadata": {},
   "outputs": [],
   "source": []
  }
 ],
 "metadata": {
  "kernelspec": {
   "display_name": "Python 3 (ipykernel)",
   "language": "python",
   "name": "python3"
  },
  "language_info": {
   "codemirror_mode": {
    "name": "ipython",
    "version": 3
   },
   "file_extension": ".py",
   "mimetype": "text/x-python",
   "name": "python",
   "nbconvert_exporter": "python",
   "pygments_lexer": "ipython3",
   "version": "3.10.9"
  }
 },
 "nbformat": 4,
 "nbformat_minor": 5
}
